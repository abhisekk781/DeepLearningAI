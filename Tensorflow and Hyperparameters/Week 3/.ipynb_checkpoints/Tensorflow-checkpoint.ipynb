{
 "cells": [
  {
   "cell_type": "code",
   "execution_count": 1,
   "metadata": {},
   "outputs": [],
   "source": [
    "import numpy as np\n",
    "import tensorflow as tf"
   ]
  },
  {
   "cell_type": "code",
   "execution_count": 45,
   "metadata": {},
   "outputs": [],
   "source": [
    "coeff=np.array([[1.],[-10.],[25.]]) ## feed training data here\n",
    "w=tf.Variable(0,dtype=tf.float32) # declare a variable w=0 with float32 data type ** required\n",
    "x=tf.placeholder(tf.float32,[3,1])## this an array to feed data\n",
    "#cost=tf.add(tf.add(w**2,tf.multiply(-10.,w)),25) ## w^2 -10w + 25\n",
    "## this one will also do\n",
    "#cost=w**2 - 10*w +25\n",
    "cost=x[0][0]*w**2 + x[1][0]*w + x[2][0]"
   ]
  },
  {
   "cell_type": "code",
   "execution_count": 46,
   "metadata": {},
   "outputs": [],
   "source": [
    "train=tf.train.GradientDescentOptimizer(0.01).minimize(cost)## learning rate = 0.01 with gradient descent minimize the cost function\n",
    "init=tf.global_variables_initializer()# Declare global variables"
   ]
  },
  {
   "cell_type": "code",
   "execution_count": 47,
   "metadata": {},
   "outputs": [
    {
     "name": "stdout",
     "output_type": "stream",
     "text": [
      "0.0\n"
     ]
    }
   ],
   "source": [
    "## now run the session\n",
    "session=tf.Session()## this is used to run the session **required\n",
    "session.run(init) # run the init **required\n",
    "print(session.run(w)) # run the w"
   ]
  },
  {
   "cell_type": "code",
   "execution_count": 48,
   "metadata": {},
   "outputs": [
    {
     "name": "stdout",
     "output_type": "stream",
     "text": [
      "0.099999994\n"
     ]
    }
   ],
   "source": [
    "session.run(train, feed_dict={x:coeff}) # run the gradient decent for 1 step ** required\n",
    "print(session.run(w))# now evaluate the value of w"
   ]
  },
  {
   "cell_type": "code",
   "execution_count": 49,
   "metadata": {},
   "outputs": [
    {
     "name": "stdout",
     "output_type": "stream",
     "text": [
      "4.9999886\n"
     ]
    }
   ],
   "source": [
    "# run gradient descent for 1000 times\n",
    "for i in range(1000):\n",
    "    session.run(train,feed_dict={x:coeff}) ## feed is used to get training data into the cost funtion\n",
    "print(session.run(w))    "
   ]
  },
  {
   "cell_type": "code",
   "execution_count": null,
   "metadata": {},
   "outputs": [],
   "source": []
  }
 ],
 "metadata": {
  "kernelspec": {
   "display_name": "Python 3",
   "language": "python",
   "name": "python3"
  },
  "language_info": {
   "codemirror_mode": {
    "name": "ipython",
    "version": 3
   },
   "file_extension": ".py",
   "mimetype": "text/x-python",
   "name": "python",
   "nbconvert_exporter": "python",
   "pygments_lexer": "ipython3",
   "version": "3.6.5"
  }
 },
 "nbformat": 4,
 "nbformat_minor": 2
}
